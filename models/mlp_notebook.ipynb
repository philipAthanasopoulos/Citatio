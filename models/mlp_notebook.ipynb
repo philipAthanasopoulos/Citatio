{
 "cells": [
  {
   "metadata": {
    "ExecuteTime": {
     "end_time": "2025-05-16T11:43:44.714304Z",
     "start_time": "2025-05-16T11:43:28.388280Z"
    }
   },
   "cell_type": "code",
   "source": [
    "from sklearn.neural_network import MLPClassifier\n",
    "from sklearn.model_selection import train_test_split\n",
    "from sklearn.preprocessing import StandardScaler\n",
    "import pandas as pd\n",
    "\n",
    "# Load the data\n",
    "data = pd.read_csv('data/positive_edges_similarities.csv')\n",
    "data['source_abs_len'] = data['source_abstract'].fillna('').apply(lambda x: len(x.split()))\n",
    "data['target_abs_len'] = data['target_abstract'].fillna('').apply(lambda x: len(x.split()))\n",
    "data.head()"
   ],
   "id": "72e8cb4dea860fb6",
   "outputs": [
    {
     "data": {
      "text/plain": [
       "   index  source  target                                    source_abstract  \\\n",
       "0      0       0       1  development automated system quality assessmen...   \n",
       "1      1       0       2  development automated system quality assessmen...   \n",
       "2      2       1       3  paper proposes novel hybrid forward algorithm ...   \n",
       "3      3       1       5  paper proposes novel hybrid forward algorithm ...   \n",
       "4      4       1       6  paper proposes novel hybrid forward algorithm ...   \n",
       "\n",
       "                                     target_abstract  similarity  \\\n",
       "0  paper proposes novel hybrid forward algorithm ...    0.018141   \n",
       "1  Modern CCD cameras usually capable spatial acc...    0.166409   \n",
       "2  paper deals problem fuzzy nonlinear model iden...    0.096633   \n",
       "3  unified approach proposed data modelling inclu...    0.042024   \n",
       "4  paper investigates center selection multioutpu...    0.361209   \n",
       "\n",
       "   source_abs_len  target_abs_len  \n",
       "0              86              71  \n",
       "1              86             107  \n",
       "2              71             111  \n",
       "3              71              52  \n",
       "4              71              63  "
      ],
      "text/html": [
       "<div>\n",
       "<style scoped>\n",
       "    .dataframe tbody tr th:only-of-type {\n",
       "        vertical-align: middle;\n",
       "    }\n",
       "\n",
       "    .dataframe tbody tr th {\n",
       "        vertical-align: top;\n",
       "    }\n",
       "\n",
       "    .dataframe thead th {\n",
       "        text-align: right;\n",
       "    }\n",
       "</style>\n",
       "<table border=\"1\" class=\"dataframe\">\n",
       "  <thead>\n",
       "    <tr style=\"text-align: right;\">\n",
       "      <th></th>\n",
       "      <th>index</th>\n",
       "      <th>source</th>\n",
       "      <th>target</th>\n",
       "      <th>source_abstract</th>\n",
       "      <th>target_abstract</th>\n",
       "      <th>similarity</th>\n",
       "      <th>source_abs_len</th>\n",
       "      <th>target_abs_len</th>\n",
       "    </tr>\n",
       "  </thead>\n",
       "  <tbody>\n",
       "    <tr>\n",
       "      <th>0</th>\n",
       "      <td>0</td>\n",
       "      <td>0</td>\n",
       "      <td>1</td>\n",
       "      <td>development automated system quality assessmen...</td>\n",
       "      <td>paper proposes novel hybrid forward algorithm ...</td>\n",
       "      <td>0.018141</td>\n",
       "      <td>86</td>\n",
       "      <td>71</td>\n",
       "    </tr>\n",
       "    <tr>\n",
       "      <th>1</th>\n",
       "      <td>1</td>\n",
       "      <td>0</td>\n",
       "      <td>2</td>\n",
       "      <td>development automated system quality assessmen...</td>\n",
       "      <td>Modern CCD cameras usually capable spatial acc...</td>\n",
       "      <td>0.166409</td>\n",
       "      <td>86</td>\n",
       "      <td>107</td>\n",
       "    </tr>\n",
       "    <tr>\n",
       "      <th>2</th>\n",
       "      <td>2</td>\n",
       "      <td>1</td>\n",
       "      <td>3</td>\n",
       "      <td>paper proposes novel hybrid forward algorithm ...</td>\n",
       "      <td>paper deals problem fuzzy nonlinear model iden...</td>\n",
       "      <td>0.096633</td>\n",
       "      <td>71</td>\n",
       "      <td>111</td>\n",
       "    </tr>\n",
       "    <tr>\n",
       "      <th>3</th>\n",
       "      <td>3</td>\n",
       "      <td>1</td>\n",
       "      <td>5</td>\n",
       "      <td>paper proposes novel hybrid forward algorithm ...</td>\n",
       "      <td>unified approach proposed data modelling inclu...</td>\n",
       "      <td>0.042024</td>\n",
       "      <td>71</td>\n",
       "      <td>52</td>\n",
       "    </tr>\n",
       "    <tr>\n",
       "      <th>4</th>\n",
       "      <td>4</td>\n",
       "      <td>1</td>\n",
       "      <td>6</td>\n",
       "      <td>paper proposes novel hybrid forward algorithm ...</td>\n",
       "      <td>paper investigates center selection multioutpu...</td>\n",
       "      <td>0.361209</td>\n",
       "      <td>71</td>\n",
       "      <td>63</td>\n",
       "    </tr>\n",
       "  </tbody>\n",
       "</table>\n",
       "</div>"
      ]
     },
     "execution_count": 9,
     "metadata": {},
     "output_type": "execute_result"
    }
   ],
   "execution_count": 9
  },
  {
   "metadata": {
    "ExecuteTime": {
     "end_time": "2025-05-16T11:44:57.893543Z",
     "start_time": "2025-05-16T11:44:36.836028Z"
    }
   },
   "cell_type": "code",
   "source": [
    "\n",
    "# Use cosine similarity and abstract lengths as features\n",
    "X = data[['similarity', 'source_abs_len', 'target_abs_len']].values  # Features: similarity and abstract lengths\n",
    "y = [1] * len(data)  # Target: all positive examples\n",
    "\n",
    "# Split the data into training and testing sets\n",
    "X_train, X_test, y_train, y_test = train_test_split(X, y, test_size=0.2, random_state=42)\n",
    "\n",
    "# Standardize the features\n",
    "scaler = StandardScaler()\n",
    "X_train = scaler.fit_transform(X_train)\n",
    "X_test = scaler.transform(X_test)\n",
    "\n",
    "# Define and train the MLP\n",
    "mlp = MLPClassifier(hidden_layer_sizes=(10, 10, 10), activation='relu', max_iter=500, random_state=42)\n",
    "mlp.fit(X_train, y_train)\n",
    "\n",
    "# Predict probabilities\n",
    "y_prob = mlp.predict_proba(X_test)[:, 1]  # Probability of class 1 (citation)\n",
    "\n",
    "# Print the probabilities\n",
    "print(\"Predicted probabilities:\", y_prob)\n"
   ],
   "id": "95042218b78af148",
   "outputs": [
    {
     "name": "stdout",
     "output_type": "stream",
     "text": [
      "Predicted probabilities: [4.82090282e-09 4.82090282e-09 4.82090282e-09 ... 4.82090282e-09\n",
      " 4.82090282e-09 4.82090282e-09]\n"
     ]
    }
   ],
   "execution_count": 10
  },
  {
   "metadata": {},
   "cell_type": "code",
   "outputs": [],
   "execution_count": null,
   "source": [
    "edges_to_predict = pd.read_csv('data/edges_to_predict_cos_sim.csv.csv')\n",
    "\n"
   ],
   "id": "368144ffb73fe298"
  }
 ],
 "metadata": {
  "kernelspec": {
   "display_name": "Python 3",
   "language": "python",
   "name": "python3"
  },
  "language_info": {
   "codemirror_mode": {
    "name": "ipython",
    "version": 3
   },
   "file_extension": ".py",
   "mimetype": "text/x-python",
   "name": "python",
   "nbconvert_exporter": "python",
   "pygments_lexer": "ipython3",
   "version": "3.12.10"
  }
 },
 "nbformat": 4,
 "nbformat_minor": 5
}

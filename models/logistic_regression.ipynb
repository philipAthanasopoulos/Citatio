{
 "cells": [
  {
   "cell_type": "code",
   "id": "d4b93d8d63c71759",
   "metadata": {
    "ExecuteTime": {
     "end_time": "2025-05-17T12:15:18.463032Z",
     "start_time": "2025-05-17T12:14:48.914560Z"
    }
   },
   "source": [
    "from sklearn.linear_model import LogisticRegression\n",
    "from sklearn.model_selection import train_test_split\n",
    "from sklearn.preprocessing import StandardScaler\n",
    "import pandas as pd\n",
    "\n",
    "# Load and prepare the data\n",
    "positive_data = pd.read_csv('../data/training/positive/positive_data.csv')\n",
    "positive_data['label'] = 1\n",
    "\n",
    "negative_data = pd.read_csv('../data/training/negative/negative_data.csv')\n",
    "negative_data['label'] = 0\n",
    "\n",
    "data = pd.concat([positive_data, negative_data], ignore_index=True)\n",
    "data = data.sample(frac=1, random_state=42).reset_index(drop=True)"
   ],
   "outputs": [],
   "execution_count": 1
  },
  {
   "metadata": {
    "collapsed": true,
    "ExecuteTime": {
     "end_time": "2025-05-17T12:25:14.462708Z",
     "start_time": "2025-05-17T12:25:10.899344Z"
    }
   },
   "cell_type": "code",
   "source": [
    "\n",
    "# Use cosine similarity and abstract lengths as features\n",
    "X = data[['source_num_authors', 'target_num_authors', 'jaccard_similarity', 'similarity', \n",
    "          'source_abstract_length', 'target_abstract_length']].values\n",
    "y = data['label']\n",
    "\n",
    "# Split the data into training and testing sets\n",
    "X_train, X_test, y_train, y_test = train_test_split(X, y, test_size=0.2, random_state=42)\n",
    "\n",
    "# Standardize the features\n",
    "scaler = StandardScaler()\n",
    "X_train = scaler.fit_transform(X_train)\n",
    "X_test = scaler.transform(X_test)\n",
    "\n",
    "# Define and train the logistic regression model\n",
    "log_reg = LogisticRegression(max_iter=1000,C=0.5, solver='liblinear')\n",
    "log_reg.fit(X_train, y_train)\n",
    "\n",
    "# Predict probabilities\n",
    "y_prob = log_reg.predict_proba(X_test)[:, 1]  # Probability of class 1 (citation)\n",
    "\n",
    "# Print the probabilities\n",
    "print(\"Predicted probabilities:\", y_prob)\n",
    "\n",
    "# Predict on new data\n",
    "predict_data = pd.read_csv('../data/training/predict/predict_data.csv')\n",
    "X_predict = predict_data[['source_num_authors', 'target_num_authors', 'jaccard_similarity', 'similarity', \n",
    "                          'source_abstract_length', 'target_abstract_length']].values\n",
    "X_predict = scaler.transform(X_predict)\n",
    "res = log_reg.predict_proba(X_predict)[:, 1]\n",
    "\n",
    "# Save results to a CSV file\n",
    "resdf = pd.DataFrame(res, columns=['probability'])\n",
    "resdf = resdf.reset_index()\n",
    "resdf = resdf.rename(columns={'index': 'ID', 'probability': 'Label'})\n",
    "resdf[['ID', 'Label']].to_csv('../predictions/logistic_regression_predictions.csv', index=False)"
   ],
   "id": "initial_id",
   "outputs": [
    {
     "name": "stdout",
     "output_type": "stream",
     "text": [
      "Predicted probabilities: [0.48957318 0.48986002 0.49660541 ... 0.50840543 0.49334812 0.50579233]\n"
     ]
    }
   ],
   "execution_count": 5
  }
 ],
 "metadata": {
  "kernelspec": {
   "display_name": "Python 3",
   "language": "python",
   "name": "python3"
  },
  "language_info": {
   "codemirror_mode": {
    "name": "ipython",
    "version": 2
   },
   "file_extension": ".py",
   "mimetype": "text/x-python",
   "name": "python",
   "nbconvert_exporter": "python",
   "pygments_lexer": "ipython2",
   "version": "2.7.6"
  }
 },
 "nbformat": 4,
 "nbformat_minor": 5
}

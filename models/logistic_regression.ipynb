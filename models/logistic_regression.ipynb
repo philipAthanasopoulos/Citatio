{
 "cells": [
  {
   "cell_type": "code",
   "execution_count": 1,
   "id": "a2e53e6d",
   "metadata": {},
   "outputs": [
    {
     "name": "stdout",
     "output_type": "stream",
     "text": [
      "Predicted probabilities: [0.60075649 0.58343488 0.53490282 ... 0.56360738 0.5251049  0.62016097]\n"
     ]
    }
   ],
   "source": [
    "from sklearn.linear_model import LogisticRegression\n",
    "from sklearn.model_selection import train_test_split\n",
    "from sklearn.preprocessing import StandardScaler\n",
    "import pandas as pd\n",
    "\n",
    "positive_data = pd.read_csv('../data/training/positive/positive_data.csv')\n",
    "# add a column with number of common authors\n",
    "positive_data['num_of_common_authors'] = positive_data.apply(\n",
    "    lambda row: len(set(row['source_authors'].split(',')).intersection(set(row['target_authors'].split(',')))), axis=1)\n",
    "positive_data['label'] = 1\n",
    "\n",
    "negative_data = pd.read_csv('../data/training/negative/negative_data.csv')\n",
    "negative_data['label'] = 0\n",
    "negative_data['num_of_common_authors'] = positive_data.apply(\n",
    "    lambda row: len(set(row['source_authors'].split(',')).intersection(set(row['target_authors'].split(',')))), axis=1)\n",
    "\n",
    "data = pd.concat([positive_data, negative_data], ignore_index=True)\n",
    "data = data.sample(frac=1, random_state=42).reset_index(drop=True)\n",
    "data['num_of_common_authors'] = data['num_of_common_authors'].fillna(0)\n",
    "\n",
    "# Use cosine similarity and abstract lengths as features\n",
    "X = data[['num_of_common_authors','source_num_authors','target_num_authors','cosine_similarity', 'source_abstract_length',\n",
    "          'target_abstract_length']].values  # Features: similarity and abstract lengths\n",
    "y = data['label']  # Target: all positive examples\n",
    "\n",
    "# Split the data into training and testing sets\n",
    "X_train, X_test, y_train, y_test = train_test_split(X, y, test_size=0.2, random_state=42)\n",
    "\n",
    "# Standardize the features\n",
    "scaler = StandardScaler()\n",
    "X_train = scaler.fit_transform(X_train)\n",
    "X_test = scaler.transform(X_test)\n",
    "\n",
    "# Define and train the Logistic Regression model\n",
    "logreg = LogisticRegression(max_iter=1000)\n",
    "logreg.fit(X_train, y_train)\n",
    "\n",
    "# Predict probabilities\n",
    "y_prob = logreg.predict_proba(X_test)[:, 1]  # Probability of class 1 (citation)\n",
    "\n",
    "# Print the probabilities\n",
    "print(\"Predicted probabilities:\", y_prob)\n",
    "\n",
    "import pandas as pd\n",
    "\n",
    "predict_data = pd.read_csv('../data/training/predict/predict_data.csv')\n",
    "\n",
    "X_predict = predict_data[\n",
    "    ['num_of_common_authors','source_num_authors','target_num_authors','cosine_similarity', 'source_abstract_length',\n",
    "     'target_abstract_length']].values  # Features: similarity and abstract lengths\n",
    "X_predict = scaler.transform(X_predict)  # Standardize the features using the same scaler\n",
    "# Predict probabilities\n",
    "res = logreg.predict_proba(X_predict)[:, 1]  # Probability of class 1 (citation)\n",
    "resdf = pd.DataFrame(res, columns=['probability'])\n",
    "resdf = resdf.reset_index()\n",
    "# Rename the 'index' column to 'ID'\n",
    "resdf = resdf.rename(columns={'index': 'ID', 'probability': 'Label'})\n",
    "\n",
    "# Save the updated DataFrame to a CSV file\n",
    "resdf[['ID', 'Label']].to_csv('../predictions/predictions.csv', index=False)\n"
   ]
  }
 ],
 "metadata": {
  "kernelspec": {
   "display_name": "Python 3",
   "language": "python",
   "name": "python3"
  },
  "language_info": {
   "codemirror_mode": {
    "name": "ipython",
    "version": 3
   },
   "file_extension": ".py",
   "mimetype": "text/x-python",
   "name": "python",
   "nbconvert_exporter": "python",
   "pygments_lexer": "ipython3",
   "version": "3.12.10"
  }
 },
 "nbformat": 4,
 "nbformat_minor": 5
}

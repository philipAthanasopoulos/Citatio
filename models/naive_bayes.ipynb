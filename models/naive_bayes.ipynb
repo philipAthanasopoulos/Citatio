{
 "cells": [
  {
   "cell_type": "code",
   "id": "initial_id",
   "metadata": {
    "collapsed": true,
    "ExecuteTime": {
     "end_time": "2025-05-30T08:03:54.449764Z",
     "start_time": "2025-05-30T08:03:47.768230Z"
    }
   },
   "source": [
    "from sklearn.neural_network import MLPClassifier\n",
    "from sklearn.model_selection import train_test_split\n",
    "from sklearn.preprocessing import StandardScaler, MinMaxScaler\n",
    "import pandas as pd\n",
    "\n",
    "predict_data = pd.read_csv('../data/training/predict/predict_data.csv')\n",
    "\n",
    "positive_data = pd.read_csv('../data/training/positive/positive_data.csv')\n",
    "positive_data['label'] = 1\n",
    "\n",
    "negative_data = pd.read_csv('../data/training/negative/negative_data.csv')\n",
    "negative_data['label'] = 0\n",
    "\n",
    "data = pd.concat([positive_data, negative_data], ignore_index=True)\n",
    "data = data.sample(frac=1, random_state=42).reset_index(drop=True)\n",
    "\n",
    "#replace inf distance with -1\n",
    "data['distance'] = data['distance'].replace([float('inf'), -float('inf')], -1)\n",
    "predict_data['distance'] = predict_data['distance'].replace([float('inf'), -float('inf')], -1)\n",
    "\n",
    "X = data[['distance',\n",
    "          'dot_product',\n",
    "          'euclidean_distance',\n",
    "          'cosine_similarity',\n",
    "          'source_abstract_length',\n",
    "          'target_abstract_length',\n",
    "          'jaccard_score']\n",
    "        ].values\n",
    "\n",
    "y = data['label']\n",
    "\n",
    "# Split the data into training and testing sets\n",
    "X_train, X_test, y_train, y_test = train_test_split(X, y, test_size=0.2, random_state=42)\n",
    "\n",
    "# Standardize the features\n",
    "scaler = StandardScaler()\n",
    "X_train = scaler.fit_transform(X_train)\n",
    "X_test = scaler.transform(X_test)\n",
    "\n",
    "# Define and train the MLP\n",
    "mlp = GaussianNB()\n",
    "mlp.fit(X_train, y_train)\n",
    "y_prob = mlp.predict_proba(X_test)[:, 1]  # Probability of class 1 (citation)\n",
    "\n",
    "\n",
    "from sklearn.metrics import accuracy_score, precision_score, recall_score, f1_score\n",
    "print(\"Predicted probabilities:\", y_prob)\n",
    "print(\"Accuracy:\", accuracy_score(y_test, mlp.predict(X_test)))\n",
    "print(\"Precision:\", precision_score(y_test, mlp.predict(X_test)))\n",
    "print(\"Recall:\", recall_score(y_test, mlp.predict(X_test)))\n",
    "print(\"F1 Score:\", f1_score(y_test, mlp.predict(X_test)))\n",
    "\n",
    "X_predict = predict_data[['distance',\n",
    "                          'dot_product',\n",
    "                          'euclidean_distance',\n",
    "                          'cosine_similarity',\n",
    "                          'source_abstract_length',\n",
    "                          'target_abstract_length',\n",
    "                          'jaccard_score']\n",
    "                        ].values\n",
    "X_predict = scaler.transform(X_predict)\n",
    "\n",
    "res = mlp.predict_proba(X_predict)[:, 1]\n",
    "resdf = pd.DataFrame(res, columns=['probability'])\n",
    "resdf = resdf.reset_index()\n",
    "resdf = resdf.rename(columns={'index': 'ID', 'probability': 'Label'})\n",
    "\n",
    "resdf[['ID', 'Label']].to_csv('../predictions/nb_predictions.csv', index=False)"
   ],
   "outputs": [
    {
     "name": "stdout",
     "output_type": "stream",
     "text": [
      "Predicted probabilities: [7.02524449e-01 7.04602953e-03 7.63436026e-01 ... 1.97974744e-07\n",
      " 3.47769742e-01 8.37129638e-03]\n",
      "Accuracy: 0.8846358064530895\n",
      "Precision: 0.990243275455119\n",
      "Recall: 0.7766724250908441\n",
      "F1 Score: 0.8705504693177879\n"
     ]
    }
   ],
   "execution_count": 2
  }
 ],
 "metadata": {
  "kernelspec": {
   "display_name": "Python 3",
   "language": "python",
   "name": "python3"
  },
  "language_info": {
   "codemirror_mode": {
    "name": "ipython",
    "version": 2
   },
   "file_extension": ".py",
   "mimetype": "text/x-python",
   "name": "python",
   "nbconvert_exporter": "python",
   "pygments_lexer": "ipython2",
   "version": "2.7.6"
  }
 },
 "nbformat": 4,
 "nbformat_minor": 5
}

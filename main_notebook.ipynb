{
 "cells": [
  {
   "cell_type": "code",
   "id": "initial_id",
   "metadata": {
    "collapsed": true,
    "ExecuteTime": {
     "end_time": "2025-03-06T15:34:28.411135Z",
     "start_time": "2025-03-06T15:34:28.144886Z"
    }
   },
   "source": [
    "from enum import unique\n",
    "\n",
    "import pandas as pd\n",
    "from numpy import number\n",
    "\n",
    "# Read the file with the specified separator, engine, quotechar, and error_bad_lines\n",
    "authors = pd.read_csv('data/authors.txt', sep=r'\\|\\-\\-\\|', header=None, index_col=False, engine='python')\n",
    "\n",
    "# Assign column names\n",
    "authors.columns = ['paper_id', 'author_names']\n",
    "\n",
    "# Display the first few rows to verify\n",
    "print(authors.head())\n",
    "\n",
    "print(\"Number of papers with no authors: \", authors['author_names'].isnull().sum())"
   ],
   "outputs": [
    {
     "name": "stdout",
     "output_type": "stream",
     "text": [
      "   paper_id                                       author_names\n",
      "0         0  James H. Niblock,Jian-Xun Peng,Karen R. McMene...\n",
      "1         1              Jian-Xun Peng,Kang Li,De-Shuang Huang\n",
      "2         2                                        J. Heikkila\n",
      "3         3         L. Teslic,B. Hartmann,O. Nelles,I. Skrjanc\n",
      "4         4      Long Zhang,Kang Li,Er-Wei Bai,George W. Irwin\n",
      "Number of papers with no authors:  0\n"
     ]
    }
   ],
   "execution_count": 37
  },
  {
   "metadata": {
    "ExecuteTime": {
     "end_time": "2025-03-06T15:34:51.079209Z",
     "start_time": "2025-03-06T15:34:50.386587Z"
    }
   },
   "cell_type": "code",
   "source": [
    "abstracts = pd.read_csv('data/abstracts.txt', sep=r'\\|\\-\\-\\|', header=None, index_col=False, engine='python')\n",
    "abstracts.columns = ['paper_id', 'abstracts']\n",
    "print(abstracts.head())\n",
    "print(\"Number of papers with no abstract:\",abstracts['abstracts'].isnull().sum())"
   ],
   "id": "4820467ce888c712",
   "outputs": [
    {
     "name": "stdout",
     "output_type": "stream",
     "text": [
      "   paper_id                                          abstracts\n",
      "0         0  The development of an automated system for the...\n",
      "1         1  This paper proposes a novel hybrid forward alg...\n",
      "2         2  Modern CCD cameras are usually capable of a sp...\n",
      "3         3  This paper deals with the problem of fuzzy non...\n",
      "4         4  A number of neural networks can be formulated ...\n",
      "Number of papers with no abstract: 7249\n"
     ]
    }
   ],
   "execution_count": 39
  },
  {
   "metadata": {
    "ExecuteTime": {
     "end_time": "2025-03-06T15:19:15.733790Z",
     "start_time": "2025-03-06T15:19:15.531709Z"
    }
   },
   "cell_type": "code",
   "source": [
    "citation_probabilities = pd.read_csv('data/submission_random.csv', sep=',', index_col=False, engine='python')\n",
    "citation_probabilities.columns = ['paper_id', 'probability']\n",
    "citation_probabilities.head()"
   ],
   "id": "3be7367413747c82",
   "outputs": [
    {
     "data": {
      "text/plain": [
       "   paper_id  probability\n",
       "0         0     0.833146\n",
       "1         1     0.600638\n",
       "2         2     0.020457\n",
       "3         3     0.960325\n",
       "4         4     0.533223"
      ],
      "text/html": [
       "<div>\n",
       "<style scoped>\n",
       "    .dataframe tbody tr th:only-of-type {\n",
       "        vertical-align: middle;\n",
       "    }\n",
       "\n",
       "    .dataframe tbody tr th {\n",
       "        vertical-align: top;\n",
       "    }\n",
       "\n",
       "    .dataframe thead th {\n",
       "        text-align: right;\n",
       "    }\n",
       "</style>\n",
       "<table border=\"1\" class=\"dataframe\">\n",
       "  <thead>\n",
       "    <tr style=\"text-align: right;\">\n",
       "      <th></th>\n",
       "      <th>paper_id</th>\n",
       "      <th>probability</th>\n",
       "    </tr>\n",
       "  </thead>\n",
       "  <tbody>\n",
       "    <tr>\n",
       "      <th>0</th>\n",
       "      <td>0</td>\n",
       "      <td>0.833146</td>\n",
       "    </tr>\n",
       "    <tr>\n",
       "      <th>1</th>\n",
       "      <td>1</td>\n",
       "      <td>0.600638</td>\n",
       "    </tr>\n",
       "    <tr>\n",
       "      <th>2</th>\n",
       "      <td>2</td>\n",
       "      <td>0.020457</td>\n",
       "    </tr>\n",
       "    <tr>\n",
       "      <th>3</th>\n",
       "      <td>3</td>\n",
       "      <td>0.960325</td>\n",
       "    </tr>\n",
       "    <tr>\n",
       "      <th>4</th>\n",
       "      <td>4</td>\n",
       "      <td>0.533223</td>\n",
       "    </tr>\n",
       "  </tbody>\n",
       "</table>\n",
       "</div>"
      ]
     },
     "execution_count": 29,
     "metadata": {},
     "output_type": "execute_result"
    }
   ],
   "execution_count": 29
  },
  {
   "metadata": {
    "ExecuteTime": {
     "end_time": "2025-03-06T15:20:16.675991Z",
     "start_time": "2025-03-06T15:20:16.673122Z"
    }
   },
   "cell_type": "code",
   "source": [
    "print(len(authors))\n",
    "print(len(citation_probabilities))"
   ],
   "id": "20698e00c582158a",
   "outputs": [
    {
     "name": "stdout",
     "output_type": "stream",
     "text": [
      "138499\n",
      "106692\n"
     ]
    }
   ],
   "execution_count": 31
  },
  {
   "metadata": {
    "ExecuteTime": {
     "end_time": "2025-03-06T15:41:14.570926Z",
     "start_time": "2025-03-06T15:41:12.757931Z"
    }
   },
   "cell_type": "code",
   "source": [
    "edgelist = pd.read_csv('data/edgelist.txt', sep=',', header=None, engine='python')\n",
    "edgelist.columns = ['paper', 'cited_paper']\n",
    "print(edgelist.head())\n",
    "print(\"Number of papers citing other papers: \", len(edgelist['paper'].unique()))\n"
   ],
   "id": "6cfbd6e3e72b6f61",
   "outputs": [
    {
     "name": "stdout",
     "output_type": "stream",
     "text": [
      "   paper  cited_paper\n",
      "0      0            1\n",
      "1      0            2\n",
      "2      1            3\n",
      "3      1            5\n",
      "4      1            6\n",
      "Number of papers citing other papers:  100336\n"
     ]
    }
   ],
   "execution_count": 45
  },
  {
   "metadata": {},
   "cell_type": "code",
   "outputs": [],
   "execution_count": null,
   "source": "",
   "id": "2f4fc22b4eb54c40"
  },
  {
   "metadata": {},
   "cell_type": "markdown",
   "source": [
    "<h1> MLP aproach </h1>\n",
    "In order to predict whether a paper cites another paper we are going to train a MLP model using the following features:\n",
    "- Number of authors\n",
    "- Number of words in the abstract"
   ],
   "id": "aeeb42d7091387a8"
  },
  {
   "metadata": {
    "ExecuteTime": {
     "end_time": "2025-03-06T15:58:30.025618Z",
     "start_time": "2025-03-06T15:58:29.943097Z"
    }
   },
   "cell_type": "code",
   "source": [
    "from sklearn.neural_network import MLPClassifier\n",
    "from sklearn.datasets import load_iris\n",
    "from sklearn.model_selection import train_test_split\n",
    "from sklearn.metrics import accuracy_score\n",
    "\n",
    "# Load dataset\n",
    "data = load_iris()\n",
    "X, y = data.data, data.target\n",
    "\n",
    "# Split the data\n",
    "X_train, X_test, y_train, y_test = train_test_split(X, y, test_size=0.2, random_state=42)\n",
    "\n",
    "# Create and train the MLP\n",
    "mlp = MLPClassifier(hidden_layer_sizes=(100,), max_iter=300, random_state=42)\n",
    "mlp.fit(X_train, y_train)\n",
    "\n",
    "# Predict and evaluate\n",
    "y_pred = mlp.predict(X_test)\n",
    "print(\"Accuracy:\", accuracy_score(y_test, y_pred))"
   ],
   "id": "d7438a09f898e1fb",
   "outputs": [
    {
     "name": "stdout",
     "output_type": "stream",
     "text": [
      "Accuracy: 1.0\n"
     ]
    },
    {
     "name": "stderr",
     "output_type": "stream",
     "text": [
      "C:\\Users\\Dell\\AppData\\Local\\Packages\\PythonSoftwareFoundation.Python.3.12_qbz5n2kfra8p0\\LocalCache\\local-packages\\Python312\\site-packages\\sklearn\\neural_network\\_multilayer_perceptron.py:691: ConvergenceWarning: Stochastic Optimizer: Maximum iterations (300) reached and the optimization hasn't converged yet.\n",
      "  warnings.warn(\n"
     ]
    }
   ],
   "execution_count": 47
  }
 ],
 "metadata": {
  "kernelspec": {
   "display_name": "Python 3",
   "language": "python",
   "name": "python3"
  },
  "language_info": {
   "codemirror_mode": {
    "name": "ipython",
    "version": 2
   },
   "file_extension": ".py",
   "mimetype": "text/x-python",
   "name": "python",
   "nbconvert_exporter": "python",
   "pygments_lexer": "ipython2",
   "version": "2.7.6"
  }
 },
 "nbformat": 4,
 "nbformat_minor": 5
}

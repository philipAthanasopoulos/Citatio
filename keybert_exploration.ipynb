{
 "cells": [
  {
   "cell_type": "code",
   "execution_count": null,
   "id": "initial_id",
   "metadata": {
    "ExecuteTime": {
     "end_time": "2025-05-19T19:51:26.494418Z",
     "start_time": "2025-05-19T19:51:25.516096Z"
    },
    "collapsed": true
   },
   "outputs": [],
   "source": [
    "import pandas as pd\n",
    "\n",
    "\n",
    "abstracts = pd.read_csv('data/abstracts.txt', sep=r'\\|\\-\\-\\|', header=None, index_col=False, engine='python')\n",
    "abstracts.columns = ['paper_id', 'abstract']\n",
    "\n",
    "\n",
    "import torch\n",
    "from transformers import BertTokenizer, BertModel\n",
    "from tqdm import tqdm\n",
    "import numpy as np\n",
    "\n",
    "# Load pre-trained BERT model and tokenizer\n",
    "tokenizer = BertTokenizer.from_pretrained('bert-base-uncased')\n",
    "model = BertModel.from_pretrained('bert-base-uncased')\n",
    "model.eval()\n",
    "\n",
    "# Function to get BERT embedding for a single text\n",
    "def get_bert_embedding(text):\n",
    "    with torch.no_grad():\n",
    "        inputs = tokenizer(text, return_tensors='pt', truncation=True, max_length=128, padding='max_length')\n",
    "        outputs = model(**inputs)\n",
    "        # Use the [CLS] token embedding as the sentence embedding\n",
    "        cls_embedding = outputs.last_hidden_state[:, 0, :].squeeze().numpy()\n",
    "    return cls_embedding\n",
    "\n",
    "# Generate embeddings for all abstracts\n",
    "embeddings = []\n",
    "for abstract in tqdm(abstracts['abstract'], desc=\"Generating BERT embeddings\"):\n",
    "    emb = get_bert_embedding(str(abstract))\n",
    "    embeddings.append(emb)\n",
    "\n",
    "# Convert embeddings to a DataFrame\n",
    "embeddings_df = pd.DataFrame(embeddings)\n",
    "embeddings_df['paper_id'] = abstracts['paper_id']\n",
    "\n",
    "# Save embeddings to a CSV file (optional)\n",
    "embeddings_df.to_csv('data/bert_abstract_embeddings.csv', index=False)\n"
   ]
  }
 ],
 "metadata": {
  "kernelspec": {
   "display_name": "Python 3",
   "language": "python",
   "name": "python3"
  },
  "language_info": {
   "codemirror_mode": {
    "name": "ipython",
    "version": 2
   },
   "file_extension": ".py",
   "mimetype": "text/x-python",
   "name": "python",
   "nbconvert_exporter": "python",
   "pygments_lexer": "ipython2",
   "version": "3.12.10"
  }
 },
 "nbformat": 4,
 "nbformat_minor": 5
}

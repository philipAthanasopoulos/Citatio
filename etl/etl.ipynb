{
 "cells": [
  {
   "cell_type": "code",
   "id": "initial_id",
   "metadata": {
    "collapsed": true,
    "ExecuteTime": {
     "end_time": "2025-05-09T10:29:39.504271Z",
     "start_time": "2025-05-09T10:29:33.942850Z"
    }
   },
   "source": [
    "import pandas as pd\n",
    "from tensorflow.tools.docs.doc_controls import header\n",
    "\n",
    "authors = pd.read_csv('data/authors.txt',sep=r'\\|\\-\\-\\|',header=None, index_col=False, engine='python')\n",
    "authors.columns = ['paper_id', 'author_names']\n",
    "authors['num_of_authors'] = authors['author_names'].apply(lambda x: len(x.split(',')))\n",
    "authors.head(10)\n",
    "\n",
    "abstracts = pd.read_csv('data/abstracts.txt',sep=r'\\|\\-\\-\\|',header=None, index_col=False, engine='python')\n",
    "abstracts.columns = ['paper_id', 'abstract']\n",
    "abstracts['abs_len'] = abstracts['abstract'].apply(lambda x: len(str(x).split()) if pd.notnull(x) else 0)\n",
    "abstracts.head(10)\n",
    "\n",
    "citations = pd.read_csv('data/edgelist.txt',sep=\",\",header=None, index_col=False, engine='python')\n",
    "citations.columns = ['paper_id', 'cited_paper_id']\n",
    "\n",
    "df= pd.merge(authors, abstracts, on='paper_id', how='left')\n",
    "df = pd.merge(df, citations, on='paper_id', how='left')\n",
    "df = df.drop_duplicates(subset=['paper_id'])\n",
    "\n",
    "#save to csv\n",
    "df.to_csv('data/processed_data.csv', index=False)"
   ],
   "outputs": [],
   "execution_count": 3
  }
 ],
 "metadata": {
  "kernelspec": {
   "display_name": "Python 3",
   "language": "python",
   "name": "python3"
  },
  "language_info": {
   "codemirror_mode": {
    "name": "ipython",
    "version": 2
   },
   "file_extension": ".py",
   "mimetype": "text/x-python",
   "name": "python",
   "nbconvert_exporter": "python",
   "pygments_lexer": "ipython2",
   "version": "2.7.6"
  }
 },
 "nbformat": 4,
 "nbformat_minor": 5
}

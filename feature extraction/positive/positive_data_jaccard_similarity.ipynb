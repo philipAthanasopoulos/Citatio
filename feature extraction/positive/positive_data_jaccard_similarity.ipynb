{
 "cells": [
  {
   "cell_type": "code",
   "id": "cdb80e29af3ad21d",
   "metadata": {
    "ExecuteTime": {
     "end_time": "2025-05-17T08:36:27.200563Z",
     "start_time": "2025-05-17T08:36:26.181509Z"
    }
   },
   "source": [
    "import pandas as pd\n",
    "\n",
    "abstracts = pd.read_csv('../../data/abstracts.txt', sep=r'\\|\\-\\-\\|', header=None, index_col=False, engine='python')\n",
    "abstracts.columns = ['paper_id', 'abstracts']\n",
    "abstracts['abstracts'] = abstracts['abstracts'].fillna('')\n",
    "positive_edges = pd.read_csv('../../data/edgelist.txt', sep=',', header=None)\n",
    "positive_edges.columns = ['source', 'target']\n",
    "\n",
    "positive_edges['source_abstract'] = positive_edges['source'].map(abstracts.set_index('paper_id')['abstracts'])\n",
    "positive_edges['target_abstract'] = positive_edges['target'].map(abstracts.set_index('paper_id')['abstracts'])"
   ],
   "outputs": [],
   "execution_count": 3
  },
  {
   "metadata": {
    "collapsed": true,
    "ExecuteTime": {
     "end_time": "2025-05-17T09:02:28.507070Z",
     "start_time": "2025-05-17T08:36:27.205684Z"
    }
   },
   "cell_type": "code",
   "source": [
    "import nltk\n",
    "from nltk.corpus import stopwords\n",
    "nltk.download('stopwords')\n",
    "from nltk.tokenize import word_tokenize\n",
    "nltk.download('punkt')\n",
    "stop_words = set(stopwords.words('english'))\n",
    "def remove_stopwords(text):\n",
    "    word_tokens = word_tokenize(text)\n",
    "    filtered_text = [word for word in word_tokens if word.lower() not in stop_words]\n",
    "    return ' '.join(filtered_text)\n",
    "positive_edges['source_abstract'] = positive_edges['source_abstract'].apply(remove_stopwords)\n",
    "positive_edges['target_abstract'] = positive_edges['target_abstract'].apply(remove_stopwords)\n",
    "#calculate jaccard similarity\n",
    "\n",
    "def jaccard_similarity(str1, str2):\n",
    "    # Convert strings to sets of words\n",
    "    set1 = set(str1.split())\n",
    "    set2 = set(str2.split())\n",
    "\n",
    "    # Calculate Jaccard similarity\n",
    "    intersection = len(set1.intersection(set2))\n",
    "    union = len(set1.union(set2))\n",
    "\n",
    "    if union == 0:\n",
    "        return 0.0\n",
    "\n",
    "    return intersection / union\n",
    "\n",
    "\n",
    "positive_edges['jaccard_similarity'] = positive_edges.apply(\n",
    "    lambda row: jaccard_similarity(row['source_abstract'], row['target_abstract']), axis=1\n",
    ")\n",
    "positive_edges = positive_edges[['source', 'target', 'jaccard_similarity']]\n",
    "positive_edges.to_csv('../../data/training/positive/jaccard_similarity.csv', index=False)"
   ],
   "id": "initial_id",
   "outputs": [
    {
     "name": "stderr",
     "output_type": "stream",
     "text": [
      "[nltk_data] Downloading package stopwords to\n",
      "[nltk_data]     C:\\Users\\Dell\\AppData\\Roaming\\nltk_data...\n",
      "[nltk_data]   Package stopwords is already up-to-date!\n",
      "[nltk_data] Downloading package punkt to\n",
      "[nltk_data]     C:\\Users\\Dell\\AppData\\Roaming\\nltk_data...\n",
      "[nltk_data]   Package punkt is already up-to-date!\n"
     ]
    }
   ],
   "execution_count": 4
  }
 ],
 "metadata": {
  "kernelspec": {
   "display_name": "Python 3",
   "language": "python",
   "name": "python3"
  },
  "language_info": {
   "codemirror_mode": {
    "name": "ipython",
    "version": 2
   },
   "file_extension": ".py",
   "mimetype": "text/x-python",
   "name": "python",
   "nbconvert_exporter": "python",
   "pygments_lexer": "ipython2",
   "version": "2.7.6"
  }
 },
 "nbformat": 4,
 "nbformat_minor": 5
}

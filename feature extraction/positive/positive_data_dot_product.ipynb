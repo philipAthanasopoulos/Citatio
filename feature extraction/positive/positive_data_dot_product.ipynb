{
 "cells": [
  {
   "cell_type": "code",
   "execution_count": 1,
   "id": "46f4432c",
   "metadata": {
    "execution": {
     "iopub.execute_input": "2025-05-24T12:30:43.103515Z",
     "iopub.status.busy": "2025-05-24T12:30:43.102509Z",
     "iopub.status.idle": "2025-05-24T12:39:03.019413Z",
     "shell.execute_reply": "2025-05-24T12:39:03.009576Z"
    }
   },
   "outputs": [],
   "source": [
    "import pandas as pd\n",
    "from sklearn.metrics.pairwise import euclidean_distances\n",
    "from tqdm.notebook import tqdm\n",
    "import numpy as np\n",
    "\n",
    "positive_edges = pd.read_csv('../../data/edgelist.txt', sep=',', header=None)\n",
    "positive_edges.columns = ['source', 'target']\n",
    "bert_embeddings = pd.read_csv('../../data/abstracts_bert_embeddings.csv')\n",
    "\n",
    "# Ensure all IDs are strings and strip whitespace\n",
    "bert_embeddings['paper_id'] = bert_embeddings['paper_id'].astype(str).str.strip()\n",
    "positive_edges['source'] = positive_edges['source'].astype(str).str.strip()\n",
    "positive_edges['target'] = positive_edges['target'].astype(str).str.strip()\n",
    "# Merge embeddings for source and target\n",
    "source_emb = bert_embeddings.rename(columns={'paper_id': 'source'})\n",
    "target_emb = bert_embeddings.rename(columns={'paper_id': 'target'})\n",
    "\n",
    "# Merge to get source and target embeddings\n",
    "merged = positive_edges.merge(source_emb, on='source').merge(target_emb, on='target', suffixes=('_src', '_tgt'))\n",
    "\n",
    "# Get only embedding columns (exclude 'source' and 'target')\n",
    "embedding_cols = [col for col in bert_embeddings.columns if col != 'paper_id']\n",
    "\n",
    "# Compute dot product row-wise\n",
    "dot_products = np.einsum('ij,ij->i', merged[[f\"{col}_src\" for col in embedding_cols]].values,\n",
    "                                   merged[[f\"{col}_tgt\" for col in embedding_cols]].values)\n",
    "\n",
    "positive_edges['dot_product'] = dot_products\n",
    "positive_edges.head()\n",
    "\n",
    "\n",
    "# Compute dot product row-wise\n",
    "dot_products = np.einsum('ij,ij->i', merged[[f\"{col}_src\" for col in embedding_cols]].values,\n",
    "                                   merged[[f\"{col}_tgt\" for col in embedding_cols]].values)\n",
    "\n",
    "positive_edges['dot_product'] = dot_products\n",
    "positive_edges.head()\n",
    "\n",
    "positive_edges.to_csv('../../data/training/positive/positive_edges_dot_product.csv', index=False)\n"
   ]
  }
 ],
 "metadata": {
  "kernelspec": {
   "display_name": "Python 3",
   "language": "python",
   "name": "python3"
  },
  "language_info": {
   "codemirror_mode": {
    "name": "ipython",
    "version": 3
   },
   "file_extension": ".py",
   "mimetype": "text/x-python",
   "name": "python",
   "nbconvert_exporter": "python",
   "pygments_lexer": "ipython3",
   "version": "3.12.10"
  }
 },
 "nbformat": 4,
 "nbformat_minor": 5
}

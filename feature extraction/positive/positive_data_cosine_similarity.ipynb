{
 "cells": [
  {
   "cell_type": "code",
   "execution_count": 1,
   "id": "6da1004efd27e3a9",
   "metadata": {
    "jupyter": {
     "is_executing": true
    }
   },
   "outputs": [
    {
     "data": {
      "text/html": [
       "<div>\n",
       "<style scoped>\n",
       "    .dataframe tbody tr th:only-of-type {\n",
       "        vertical-align: middle;\n",
       "    }\n",
       "\n",
       "    .dataframe tbody tr th {\n",
       "        vertical-align: top;\n",
       "    }\n",
       "\n",
       "    .dataframe thead th {\n",
       "        text-align: right;\n",
       "    }\n",
       "</style>\n",
       "<table border=\"1\" class=\"dataframe\">\n",
       "  <thead>\n",
       "    <tr style=\"text-align: right;\">\n",
       "      <th></th>\n",
       "      <th>3d</th>\n",
       "      <th>able</th>\n",
       "      <th>abstract</th>\n",
       "      <th>accuracy</th>\n",
       "      <th>accurate</th>\n",
       "      <th>achieve</th>\n",
       "      <th>achieves</th>\n",
       "      <th>action</th>\n",
       "      <th>adaptive</th>\n",
       "      <th>addition</th>\n",
       "      <th>...</th>\n",
       "      <th>view</th>\n",
       "      <th>vision</th>\n",
       "      <th>visual</th>\n",
       "      <th>way</th>\n",
       "      <th>web</th>\n",
       "      <th>word</th>\n",
       "      <th>words</th>\n",
       "      <th>work</th>\n",
       "      <th>world</th>\n",
       "      <th>paper_id</th>\n",
       "    </tr>\n",
       "  </thead>\n",
       "  <tbody>\n",
       "    <tr>\n",
       "      <th>0</th>\n",
       "      <td>0.0</td>\n",
       "      <td>0.0</td>\n",
       "      <td>0.0</td>\n",
       "      <td>0.0</td>\n",
       "      <td>0.0</td>\n",
       "      <td>0.0</td>\n",
       "      <td>0.0</td>\n",
       "      <td>0.0</td>\n",
       "      <td>0.0</td>\n",
       "      <td>0.0</td>\n",
       "      <td>...</td>\n",
       "      <td>0.0</td>\n",
       "      <td>0.0</td>\n",
       "      <td>0.0</td>\n",
       "      <td>0.0</td>\n",
       "      <td>0.0</td>\n",
       "      <td>0.0</td>\n",
       "      <td>0.0</td>\n",
       "      <td>0.0</td>\n",
       "      <td>0.0</td>\n",
       "      <td>0</td>\n",
       "    </tr>\n",
       "    <tr>\n",
       "      <th>1</th>\n",
       "      <td>0.0</td>\n",
       "      <td>0.0</td>\n",
       "      <td>0.0</td>\n",
       "      <td>0.0</td>\n",
       "      <td>0.0</td>\n",
       "      <td>0.0</td>\n",
       "      <td>0.0</td>\n",
       "      <td>0.0</td>\n",
       "      <td>0.0</td>\n",
       "      <td>0.0</td>\n",
       "      <td>...</td>\n",
       "      <td>0.0</td>\n",
       "      <td>0.0</td>\n",
       "      <td>0.0</td>\n",
       "      <td>0.0</td>\n",
       "      <td>0.0</td>\n",
       "      <td>0.0</td>\n",
       "      <td>0.0</td>\n",
       "      <td>0.0</td>\n",
       "      <td>0.0</td>\n",
       "      <td>1</td>\n",
       "    </tr>\n",
       "  </tbody>\n",
       "</table>\n",
       "<p>2 rows × 301 columns</p>\n",
       "</div>"
      ],
      "text/plain": [
       "    3d  able  abstract  accuracy  accurate  achieve  achieves  action  \\\n",
       "0  0.0   0.0       0.0       0.0       0.0      0.0       0.0     0.0   \n",
       "1  0.0   0.0       0.0       0.0       0.0      0.0       0.0     0.0   \n",
       "\n",
       "   adaptive  addition  ...  view  vision  visual  way  web  word  words  work  \\\n",
       "0       0.0       0.0  ...   0.0     0.0     0.0  0.0  0.0   0.0    0.0   0.0   \n",
       "1       0.0       0.0  ...   0.0     0.0     0.0  0.0  0.0   0.0    0.0   0.0   \n",
       "\n",
       "   world  paper_id  \n",
       "0    0.0         0  \n",
       "1    0.0         1  \n",
       "\n",
       "[2 rows x 301 columns]"
      ]
     },
     "execution_count": 1,
     "metadata": {},
     "output_type": "execute_result"
    }
   ],
   "source": [
    "import pandas as pd\n",
    "from requests.packages import target\n",
    "\n",
    "positive_edges = pd.read_csv('../../data/edgelist.txt', sep=',', header=None)\n",
    "positive_edges.columns = ['source', 'target']\n",
    "tfidf_embeddings = pd.read_csv('../../data/abstracts_tfidf_embeddings.csv')\n",
    "tfidf_embeddings.head(2)"
   ]
  },
  {
   "cell_type": "code",
   "execution_count": null,
   "id": "34dd41d8",
   "metadata": {},
   "outputs": [
    {
     "name": "stderr",
     "output_type": "stream",
     "text": [
      "\n",
      "[notice] A new release of pip is available: 25.0.1 -> 25.1.1\n",
      "[notice] To update, run: C:\\Users\\Dell\\AppData\\Local\\Microsoft\\WindowsApps\\PythonSoftwareFoundation.Python.3.12_qbz5n2kfra8p0\\python.exe -m pip install --upgrade pip\n"
     ]
    },
    {
     "name": "stdout",
     "output_type": "stream",
     "text": [
      "Note: you may need to restart the kernel to use updated packages.\n"
     ]
    },
    {
     "data": {
      "application/vnd.jupyter.widget-view+json": {
       "model_id": "c18b0fcfc9174e26bba3ea6291c90677",
       "version_major": 2,
       "version_minor": 0
      },
      "text/plain": [
       "  0%|          | 0/1091955 [00:00<?, ?it/s]"
      ]
     },
     "metadata": {},
     "output_type": "display_data"
    }
   ],
   "source": [
    "positive_edges_cosine_similarity_df = pd.DataFrame(columns=['source', 'target', 'cosine_similarity'])\n",
    "\n",
    "from sklearn.metrics.pairwise import cosine_similarity\n",
    "from tqdm.notebook import tqdm\n",
    "\n",
    "\n",
    "positive_edges_cosine_similarity_df['source'] = positive_edges['source']\n",
    "positive_edges_cosine_similarity_df['target'] = positive_edges['target']\n",
    "\n",
    "cosine_similarities = []\n",
    "for idx, row in tqdm(positive_edges_cosine_similarity_df.iterrows(), total=positive_edges_cosine_similarity_df.shape[0]):\n",
    "    source_vec = tfidf_embeddings[tfidf_embeddings['paper_id'] == row['source']].iloc[:, 1:-1].values\n",
    "    target_vec = tfidf_embeddings[tfidf_embeddings['paper_id'] == row['target']].iloc[:, 1:-1].values\n",
    "    if source_vec.size > 0 and target_vec.size > 0:\n",
    "        sim = cosine_similarity(source_vec, target_vec)[0][0]\n",
    "    else:\n",
    "        sim = None\n",
    "    cosine_similarities.append(sim)\n",
    "\n",
    "positive_edges_cosine_similarity_df['cosine_similarity'] = cosine_similarities\n",
    "\n",
    "positive_edges_cosine_similarity_df.to_csv('../../data/training/positive/positive_edges_cosine_similarity.csv', index=False)"
   ]
  }
 ],
 "metadata": {
  "kernelspec": {
   "display_name": "Python 3",
   "language": "python",
   "name": "python3"
  },
  "language_info": {
   "codemirror_mode": {
    "name": "ipython",
    "version": 3
   },
   "file_extension": ".py",
   "mimetype": "text/x-python",
   "name": "python",
   "nbconvert_exporter": "python",
   "pygments_lexer": "ipython3",
   "version": "3.12.10"
  }
 },
 "nbformat": 4,
 "nbformat_minor": 5
}

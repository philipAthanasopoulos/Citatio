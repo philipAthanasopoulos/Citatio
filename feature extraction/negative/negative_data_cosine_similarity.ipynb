{
 "cells": [
  {
   "cell_type": "code",
   "execution_count": 8,
   "id": "9a57edb8",
   "metadata": {},
   "outputs": [
    {
     "data": {
      "application/vnd.jupyter.widget-view+json": {
       "model_id": "711adf845d4840de846198b7cde5f813",
       "version_major": 2,
       "version_minor": 0
      },
      "text/plain": [
       "  0%|          | 0/2091876 [00:00<?, ?it/s]"
      ]
     },
     "metadata": {},
     "output_type": "display_data"
    }
   ],
   "source": [
    "import pandas as pd\n",
    "positive_edges = pd.read_csv('../../data/training/positive/positive_edges_cosine_similarity.csv')\n",
    "negative_from_positives = positive_edges.copy()\n",
    "negative_from_positives['source'] = negative_from_positives['target']\n",
    "negative_from_positives['target'] = negative_from_positives['source']\n",
    "negative_edges = pd.read_csv('../../data/training/negative/non_existing.csv')\n",
    "negative_edges = pd.concat([negative_edges, negative_from_positives], ignore_index=True)\n",
    "tfidf_embeddings = pd.read_csv('../../data/abstracts_tfidf_embeddings.csv')\n",
    "tfidf_embeddings.head(2)\n",
    "negative_edges_cosine_similarity_df = pd.DataFrame(columns=['source', 'target', 'cosine_similarity'])\n",
    "\n",
    "\n",
    "from sklearn.metrics.pairwise import cosine_similarity\n",
    "from tqdm.notebook import tqdm\n",
    "\n",
    "\n",
    "negative_edges_cosine_similarity_df['source'] = negative_edges['source']\n",
    "negative_edges_cosine_similarity_df['target'] = negative_edges['target']\n",
    "\n",
    "cosine_similarities = []\n",
    "for idx, row in tqdm(negative_edges_cosine_similarity_df.iterrows(), total=negative_edges_cosine_similarity_df.shape[0]):\n",
    "    source_vec = tfidf_embeddings[tfidf_embeddings['paper_id'] == row['source']].iloc[:, 1:-1].values\n",
    "    target_vec = tfidf_embeddings[tfidf_embeddings['paper_id'] == row['target']].iloc[:, 1:-1].values\n",
    "    if source_vec.size > 0 and target_vec.size > 0:\n",
    "        sim = cosine_similarity(source_vec, target_vec)[0][0]\n",
    "    else:\n",
    "        sim = None\n",
    "    cosine_similarities.append(sim)\n",
    "\n",
    "negative_edges_cosine_similarity_df['cosine_similarity'] = cosine_similarities\n",
    "\n",
    "negative_edges_cosine_similarity_df.to_csv('../../data/training/negative/negative_edges_cosine_similarity.csv', index=False)\n",
    "\n",
    "\n"
   ]
  }
 ],
 "metadata": {
  "kernelspec": {
   "display_name": "Python 3",
   "language": "python",
   "name": "python3"
  },
  "language_info": {
   "codemirror_mode": {
    "name": "ipython",
    "version": 3
   },
   "file_extension": ".py",
   "mimetype": "text/x-python",
   "name": "python",
   "nbconvert_exporter": "python",
   "pygments_lexer": "ipython3",
   "version": "3.12.10"
  }
 },
 "nbformat": 4,
 "nbformat_minor": 5
}

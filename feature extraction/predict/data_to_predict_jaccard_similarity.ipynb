{
 "cells": [
  {
   "cell_type": "code",
   "execution_count": 3,
   "id": "85ce9787",
   "metadata": {},
   "outputs": [
    {
     "ename": "ImportError",
     "evalue": "cannot import name 'jaccart_similarity_score' from 'sklearn.metrics.pairwise' (C:\\Users\\Dell\\AppData\\Local\\Packages\\PythonSoftwareFoundation.Python.3.12_qbz5n2kfra8p0\\LocalCache\\local-packages\\Python312\\site-packages\\sklearn\\metrics\\pairwise.py)",
     "output_type": "error",
     "traceback": [
      "\u001b[31m---------------------------------------------------------------------------\u001b[39m",
      "\u001b[31mImportError\u001b[39m                               Traceback (most recent call last)",
      "\u001b[36mCell\u001b[39m\u001b[36m \u001b[39m\u001b[32mIn[3]\u001b[39m\u001b[32m, line 10\u001b[39m\n\u001b[32m      6\u001b[39m tfidf_embeddings.head(\u001b[32m2\u001b[39m)\n\u001b[32m      7\u001b[39m predict_edges_jaccart_similarity_df = pd.DataFrame(columns=[\u001b[33m'\u001b[39m\u001b[33msource\u001b[39m\u001b[33m'\u001b[39m, \u001b[33m'\u001b[39m\u001b[33mtarget\u001b[39m\u001b[33m'\u001b[39m, \u001b[33m'\u001b[39m\u001b[33mjaccart_similarity\u001b[39m\u001b[33m'\u001b[39m])\n\u001b[32m---> \u001b[39m\u001b[32m10\u001b[39m \u001b[38;5;28;01mfrom\u001b[39;00m\u001b[38;5;250m \u001b[39m\u001b[34;01msklearn\u001b[39;00m\u001b[34;01m.\u001b[39;00m\u001b[34;01mmetrics\u001b[39;00m\u001b[34;01m.\u001b[39;00m\u001b[34;01mpairwise\u001b[39;00m\u001b[38;5;250m \u001b[39m\u001b[38;5;28;01mimport\u001b[39;00m jaccart_similarity_score\n\u001b[32m     11\u001b[39m \u001b[38;5;28;01mfrom\u001b[39;00m\u001b[38;5;250m \u001b[39m\u001b[34;01mtqdm\u001b[39;00m\u001b[34;01m.\u001b[39;00m\u001b[34;01mnotebook\u001b[39;00m\u001b[38;5;250m \u001b[39m\u001b[38;5;28;01mimport\u001b[39;00m tqdm\n\u001b[32m     14\u001b[39m predict_edges_jaccart_similarity_df[\u001b[33m'\u001b[39m\u001b[33msource\u001b[39m\u001b[33m'\u001b[39m] = predict_edges[\u001b[33m'\u001b[39m\u001b[33msource\u001b[39m\u001b[33m'\u001b[39m]\n",
      "\u001b[31mImportError\u001b[39m: cannot import name 'jaccart_similarity_score' from 'sklearn.metrics.pairwise' (C:\\Users\\Dell\\AppData\\Local\\Packages\\PythonSoftwareFoundation.Python.3.12_qbz5n2kfra8p0\\LocalCache\\local-packages\\Python312\\site-packages\\sklearn\\metrics\\pairwise.py)"
     ]
    }
   ],
   "source": [
    "import pandas as pd\n",
    "\n",
    "predict_edges = pd.read_csv('../../data/test.txt', sep=',', header=None)\n",
    "predict_edges.columns = ['source', 'target']\n",
    "tfidf_embeddings = pd.read_csv('../../data/abstracts_tfidf_embeddings.csv')\n",
    "tfidf_embeddings.head(2)\n",
    "predict_edges_jaccart_similarity_df = pd.DataFrame(columns=['source', 'target', 'jaccart_similarity'])\n",
    "\n",
    "\n",
    "from sklearn.metrics.pairwise import jaccart_similarity_score\n",
    "from tqdm.notebook import tqdm\n",
    "\n",
    "\n",
    "predict_edges_jaccart_similarity_df['source'] = predict_edges['source']\n",
    "predict_edges_jaccart_similarity_df['target'] = predict_edges['target']\n",
    "\n",
    "jaccart_similarities = []\n",
    "for idx, row in tqdm(predict_edges_jaccart_similarity_df.iterrows(), total=predict_edges_jaccart_similarity_df.shape[0]):\n",
    "    source_vec = tfidf_embeddings[tfidf_embeddings['paper_id'] == row['source']].iloc[:, 1:-1].values\n",
    "    target_vec = tfidf_embeddings[tfidf_embeddings['paper_id'] == row['target']].iloc[:, 1:-1].values\n",
    "    if source_vec.size > 0 and target_vec.size > 0:\n",
    "        sim = jaccart_similarity_score(source_vec, target_vec)[0][0]\n",
    "    else:\n",
    "        sim = None\n",
    "    jaccart_similarities.append(sim)\n",
    "\n",
    "predict_edges_jaccart_similarity_df['jaccart_similarity'] = jaccart_similarities\n",
    "\n",
    "predict_edges_jaccart_similarity_df.to_csv('../../data/predict/predict_edges_jaccart_similarity_df.csv', index=False)\n",
    "\n"
   ]
  }
 ],
 "metadata": {
  "kernelspec": {
   "display_name": "Python 3",
   "language": "python",
   "name": "python3"
  },
  "language_info": {
   "codemirror_mode": {
    "name": "ipython",
    "version": 3
   },
   "file_extension": ".py",
   "mimetype": "text/x-python",
   "name": "python",
   "nbconvert_exporter": "python",
   "pygments_lexer": "ipython3",
   "version": "3.12.10"
  }
 },
 "nbformat": 4,
 "nbformat_minor": 5
}

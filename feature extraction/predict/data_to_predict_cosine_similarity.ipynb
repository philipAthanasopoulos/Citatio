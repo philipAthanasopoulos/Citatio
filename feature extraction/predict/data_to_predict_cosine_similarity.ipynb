{
 "cells": [
  {
   "cell_type": "code",
   "execution_count": 1,
   "id": "initial_id",
   "metadata": {
    "ExecuteTime": {
     "end_time": "2025-05-16T13:55:32.448253Z",
     "start_time": "2025-05-16T13:54:00.572121Z"
    },
    "collapsed": true
   },
   "outputs": [
    {
     "data": {
      "application/vnd.jupyter.widget-view+json": {
       "model_id": "f24726376b424ea98c2c9a99c3db69cf",
       "version_major": 2,
       "version_minor": 0
      },
      "text/plain": [
       "  0%|          | 0/106692 [00:00<?, ?it/s]"
      ]
     },
     "metadata": {},
     "output_type": "display_data"
    }
   ],
   "source": [
    "import pandas as pd\n",
    "\n",
    "predict_edges = pd.read_csv('../../data/test.txt', sep=',', header=None)\n",
    "predict_edges.columns = ['source', 'target']\n",
    "tfidf_embeddings = pd.read_csv('../../data/abstracts_tfidf_embeddings.csv')\n",
    "tfidf_embeddings.head(2)\n",
    "predict_edges_cosine_similarity_df = pd.DataFrame(columns=['source', 'target', 'cosine_similarity'])\n",
    "\n",
    "\n",
    "from sklearn.metrics.pairwise import cosine_similarity\n",
    "from tqdm.notebook import tqdm\n",
    "\n",
    "\n",
    "predict_edges_cosine_similarity_df['source'] = predict_edges['source']\n",
    "predict_edges_cosine_similarity_df['target'] = predict_edges['target']\n",
    "\n",
    "cosine_similarities = []\n",
    "for idx, row in tqdm(predict_edges_cosine_similarity_df.iterrows(), total=predict_edges_cosine_similarity_df.shape[0]):\n",
    "    source_vec = tfidf_embeddings[tfidf_embeddings['paper_id'] == row['source']].iloc[:, 1:-1].values\n",
    "    target_vec = tfidf_embeddings[tfidf_embeddings['paper_id'] == row['target']].iloc[:, 1:-1].values\n",
    "    if source_vec.size > 0 and target_vec.size > 0:\n",
    "        sim = cosine_similarity(source_vec, target_vec)[0][0]\n",
    "    else:\n",
    "        sim = None\n",
    "    cosine_similarities.append(sim)\n",
    "\n",
    "predict_edges_cosine_similarity_df['cosine_similarity'] = cosine_similarities\n",
    "\n",
    "predict_edges_cosine_similarity_df.to_csv('../../data/training/predict/predict_edges_cosine_similarity.csv', index=False)\n",
    "\n",
    "\n"
   ]
  }
 ],
 "metadata": {
  "kernelspec": {
   "display_name": "Python 3",
   "language": "python",
   "name": "python3"
  },
  "language_info": {
   "codemirror_mode": {
    "name": "ipython",
    "version": 3
   },
   "file_extension": ".py",
   "mimetype": "text/x-python",
   "name": "python",
   "nbconvert_exporter": "python",
   "pygments_lexer": "ipython3",
   "version": "3.12.10"
  }
 },
 "nbformat": 4,
 "nbformat_minor": 5
}

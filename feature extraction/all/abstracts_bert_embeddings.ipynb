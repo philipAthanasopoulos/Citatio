{
 "cells": [
  {
   "cell_type": "code",
   "execution_count": null,
   "id": "a32338f6",
   "metadata": {},
   "outputs": [],
   "source": [
    "import pandas as pd\n",
    "\n",
    "abstracts = pd.read_csv('../../data/abstracts.txt', sep=r'\\|\\-\\-\\|', header=None, index_col=False, engine='python')\n",
    "abstracts.columns = ['paper_id', 'abstract']\n",
    "\n",
    "abstracts['abstract'] = abstracts['abstract'].fillna('')\n",
    "abstracts['abstract_length'] = abstracts['abstract'].apply(lambda x: len(x.split()))\n",
    "\n",
    "#generate bert embeddings\n",
    "from transformers import AutoTokenizer, AutoModel\n",
    "import torch\n",
    "from tqdm import tqdm\n",
    "\n",
    "# Load pre-trained model tokenizer (vocabulary)\n",
    "tokenizer = AutoTokenizer.from_pretrained('bert-base-uncased')\n",
    "# Load pre-trained model\n",
    "model = AutoModel.from_pretrained('bert-base-uncased')\n",
    "# Put the model in \"evaluation\" mode, meaning feed-forward\n",
    "model.eval()\n",
    "# Tokenize input\n",
    "def get_bert_embedding(text):\n",
    "    # Encode text\n",
    "    inputs = tokenizer(text, return_tensors='pt', truncation=True, padding=True, max_length=512)\n",
    "    # Forward pass, get hidden states\n",
    "    with torch.no_grad():\n",
    "        outputs = model(**inputs)\n",
    "    # Only take the output embeddings from the last layer\n",
    "    last_hidden_states = outputs.last_hidden_state\n",
    "    # Take the mean of the last layer hidden states\n",
    "    embedding = last_hidden_states.mean(dim=1).squeeze().numpy()\n",
    "    return embedding\n",
    "\n",
    "\n",
    "# Generate embeddings for all abstracts\n",
    "embeddings = []\n",
    "for i in tqdm(range(len(abstracts)), desc=\"Generating BERT embeddings\"):\n",
    "    embedding = get_bert_embedding(abstracts['abstract'][i])\n",
    "    embeddings.append(embedding)\n",
    "# Convert to DataFrame\n",
    "embeddings_df = pd.DataFrame(embeddings)\n",
    "embeddings_df['paper_id'] = abstracts['paper_id']\n",
    "# Save to CSV\n",
    "embeddings_df.to_csv('../../data/abstracts_bert_embeddings.csv', index=False)"
   ]
  }
 ],
 "metadata": {
  "kernelspec": {
   "display_name": "Python 3",
   "language": "python",
   "name": "python3"
  },
  "language_info": {
   "codemirror_mode": {
    "name": "ipython",
    "version": 3
   },
   "file_extension": ".py",
   "mimetype": "text/x-python",
   "name": "python",
   "nbconvert_exporter": "python",
   "pygments_lexer": "ipython3",
   "version": "3.12.10"
  }
 },
 "nbformat": 4,
 "nbformat_minor": 5
}

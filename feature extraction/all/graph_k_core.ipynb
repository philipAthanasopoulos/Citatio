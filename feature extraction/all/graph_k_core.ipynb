{
 "cells": [
  {
   "metadata": {
    "collapsed": true,
    "ExecuteTime": {
     "end_time": "2025-05-30T09:18:44.435573Z",
     "start_time": "2025-05-30T09:18:42.567416Z"
    }
   },
   "cell_type": "code",
   "source": [
    "import pandas as pd\n",
    "import networkx as nx\n",
    "from seaborn.external.docscrape import header\n",
    "\n",
    "positive_edges = pd.read_csv('../../data/edgelist.txt', sep=',', header=None)\n",
    "positive_edges.columns = ['source', 'target']\n",
    "\n",
    "negative_edges = pd.read_csv('../../data/training/negative/non_existing.csv')\n",
    "predict_edges = pd.read_csv('../../data/test.txt', sep = ',',header=None)\n",
    "predict_edges.columns = ['source', 'target']\n",
    "\n",
    "G = nx.from_pandas_edgelist(positive_edges, 'source', 'target')"
   ],
   "id": "initial_id",
   "outputs": [],
   "execution_count": 14
  },
  {
   "metadata": {
    "ExecuteTime": {
     "end_time": "2025-05-30T09:18:50.746028Z",
     "start_time": "2025-05-30T09:18:45.560901Z"
    }
   },
   "cell_type": "code",
   "source": [
    "k_core_numbers = nx.core_number(G)\n",
    "\n",
    "k_core_numbers = pd.DataFrame(k_core_numbers.items(), columns=['paper_id', 'k_core'])\n",
    "\n",
    "positive_edges['source_k_core'] = positive_edges['source'].map(k_core_numbers.set_index('paper_id')['k_core'])\n",
    "positive_edges['target_k_core'] = positive_edges['target'].map(k_core_numbers.set_index('paper_id')['k_core'])\n",
    "\n",
    "negative_edges['source_k_core'] = negative_edges['source'].map(k_core_numbers.set_index('paper_id')['k_core'])\n",
    "negative_edges['target_k_core'] = negative_edges['target'].map(k_core_numbers.set_index('paper_id')['k_core'])\n",
    "\n",
    "predict_edges['source_k_core'] = predict_edges['source'].map(k_core_numbers.set_index('paper_id')['k_core'])\n",
    "predict_edges['target_k_core'] = predict_edges['target'].map(k_core_numbers.set_index('paper_id')['k_core'])\n",
    "\n",
    "positive_edges.to_csv('../../data/training/positive/positive_edges_k_core.csv')\n",
    "negative_edges.to_csv('../../data/training/negative/negative_edges_k_core.csv')\n",
    "predict_edges.to_csv('../../data/training/predict/predict_edges_k_core.csv')\n"
   ],
   "id": "864507e89e8a4bc6",
   "outputs": [],
   "execution_count": 15
  }
 ],
 "metadata": {
  "kernelspec": {
   "display_name": "Python 3",
   "language": "python",
   "name": "python3"
  },
  "language_info": {
   "codemirror_mode": {
    "name": "ipython",
    "version": 2
   },
   "file_extension": ".py",
   "mimetype": "text/x-python",
   "name": "python",
   "nbconvert_exporter": "python",
   "pygments_lexer": "ipython2",
   "version": "2.7.6"
  }
 },
 "nbformat": 4,
 "nbformat_minor": 5
}

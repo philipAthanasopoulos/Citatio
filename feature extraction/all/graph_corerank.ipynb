{
 "cells": [
  {
   "cell_type": "code",
   "execution_count": 16,
   "id": "fab11381",
   "metadata": {},
   "outputs": [],
   "source": [
    "import pandas as pd\n",
    "import networkx as nx\n",
    "from seaborn.external.docscrape import header\n",
    "\n",
    "positive_edges = pd.read_csv('../../data/edgelist.txt', sep=',', header=None, index_col=False)\n",
    "positive_edges.columns = ['source', 'target']\n",
    "\n",
    "negative_edges = pd.read_csv('../../data/training/negative/non_existing.csv')\n",
    "negative_edges = negative_edges[['source', 'target']]\n",
    "predict_edges = pd.read_csv('../../data/test.txt', sep = ',',header=None, index_col=False)\n",
    "predict_edges.columns = ['source', 'target']\n",
    "\n",
    "G = nx.from_pandas_edgelist(positive_edges, 'source', 'target')"
   ]
  },
  {
   "cell_type": "code",
   "execution_count": 17,
   "id": "61d4e642",
   "metadata": {},
   "outputs": [
    {
     "data": {
      "text/html": [
       "<div>\n",
       "<style scoped>\n",
       "    .dataframe tbody tr th:only-of-type {\n",
       "        vertical-align: middle;\n",
       "    }\n",
       "\n",
       "    .dataframe tbody tr th {\n",
       "        vertical-align: top;\n",
       "    }\n",
       "\n",
       "    .dataframe thead th {\n",
       "        text-align: right;\n",
       "    }\n",
       "</style>\n",
       "<table border=\"1\" class=\"dataframe\">\n",
       "  <thead>\n",
       "    <tr style=\"text-align: right;\">\n",
       "      <th></th>\n",
       "      <th>source</th>\n",
       "      <th>target</th>\n",
       "      <th>source_corerank</th>\n",
       "      <th>target_corerank</th>\n",
       "    </tr>\n",
       "  </thead>\n",
       "  <tbody>\n",
       "    <tr>\n",
       "      <th>0</th>\n",
       "      <td>25323</td>\n",
       "      <td>54708</td>\n",
       "      <td>0.001452</td>\n",
       "      <td>0.000343</td>\n",
       "    </tr>\n",
       "    <tr>\n",
       "      <th>1</th>\n",
       "      <td>72184</td>\n",
       "      <td>108982</td>\n",
       "      <td>0.000253</td>\n",
       "      <td>0.000011</td>\n",
       "    </tr>\n",
       "    <tr>\n",
       "      <th>2</th>\n",
       "      <td>113386</td>\n",
       "      <td>4507</td>\n",
       "      <td>0.000039</td>\n",
       "      <td>0.002507</td>\n",
       "    </tr>\n",
       "    <tr>\n",
       "      <th>3</th>\n",
       "      <td>11191</td>\n",
       "      <td>128219</td>\n",
       "      <td>0.001338</td>\n",
       "      <td>0.000015</td>\n",
       "    </tr>\n",
       "    <tr>\n",
       "      <th>4</th>\n",
       "      <td>28126</td>\n",
       "      <td>85955</td>\n",
       "      <td>0.000428</td>\n",
       "      <td>0.002456</td>\n",
       "    </tr>\n",
       "  </tbody>\n",
       "</table>\n",
       "</div>"
      ],
      "text/plain": [
       "   source  target  source_corerank  target_corerank\n",
       "0   25323   54708         0.001452         0.000343\n",
       "1   72184  108982         0.000253         0.000011\n",
       "2  113386    4507         0.000039         0.002507\n",
       "3   11191  128219         0.001338         0.000015\n",
       "4   28126   85955         0.000428         0.002456"
      ]
     },
     "execution_count": 17,
     "metadata": {},
     "output_type": "execute_result"
    }
   ],
   "source": [
    "#compute page rank for all nodes\n",
    "pagerank = nx.pagerank(G, alpha=0.85)\n",
    "\n",
    "#compute corerank for all nodes\n",
    "#the core rank of each node is the sum of the pagerank of all its neighbors\n",
    "corerank = {}\n",
    "for node in G.nodes():\n",
    "    neighbors = list(G.neighbors(node))\n",
    "    if neighbors:\n",
    "        corerank[node] = sum(pagerank[neighbor] for neighbor in neighbors)\n",
    "    else:\n",
    "        corerank[node] = 0  # If no neighbors, core rank is 0\n",
    "#create df with paper_id and corerank\n",
    "corerank_df = pd.DataFrame(corerank.items(), columns=['paper_id', 'corerank'])\n",
    "\n",
    "positive_edges['source_corerank'] = positive_edges['source'].map(corerank_df.set_index('paper_id')['corerank'])\n",
    "positive_edges['target_corerank'] = positive_edges['target'].map(corerank_df.set_index('paper_id')['corerank'])\n",
    "\n",
    "negative_edges['source_corerank'] = negative_edges['source'].map(corerank_df.set_index('paper_id')['corerank'])\n",
    "negative_edges['target_corerank'] = negative_edges['target'].map(corerank_df.set_index('paper_id')['corerank'])\n",
    "\n",
    "predict_edges['source_corerank'] = predict_edges['source'].map(corerank_df.set_index('paper_id')['corerank'])\n",
    "predict_edges['target_corerank'] = predict_edges['target'].map(corerank_df.set_index('paper_id')['corerank'])\n",
    "\n",
    "negative_edges.head()"
   ]
  },
  {
   "cell_type": "code",
   "execution_count": 18,
   "id": "6f3a9e17",
   "metadata": {},
   "outputs": [],
   "source": [
    "\n",
    "\n",
    "positive_edges.to_csv('../../data/training/positive/positive_edges_corerank.csv', index=False)\n",
    "negative_edges.to_csv('../../data/training/negative/negative_edges_corerank.csv', index=False)\n",
    "predict_edges.to_csv('../../data/training/predict/predict_edges_corerank.csv', index=False)"
   ]
  }
 ],
 "metadata": {
  "kernelspec": {
   "display_name": "Python 3",
   "language": "python",
   "name": "python3"
  },
  "language_info": {
   "codemirror_mode": {
    "name": "ipython",
    "version": 3
   },
   "file_extension": ".py",
   "mimetype": "text/x-python",
   "name": "python",
   "nbconvert_exporter": "python",
   "pygments_lexer": "ipython3",
   "version": "3.12.10"
  }
 },
 "nbformat": 4,
 "nbformat_minor": 5
}

{
 "cells": [
  {
   "cell_type": "code",
   "execution_count": 1,
   "id": "37625c39",
   "metadata": {},
   "outputs": [],
   "source": [
    "import pandas as pd\n",
    "import networkx as nx\n",
    "from seaborn.external.docscrape import header\n",
    "\n",
    "positive_edges = pd.read_csv('../../data/edgelist.txt', sep=',', header=None)\n",
    "positive_edges.columns = ['source', 'target']\n",
    "\n",
    "negative_edges = pd.read_csv('../../data/training/negative/non_existing.csv')\n",
    "predict_edges = pd.read_csv('../../data/test.txt', sep = ',',header=None)\n",
    "predict_edges.columns = ['source', 'target']\n",
    "\n",
    "G = nx.from_pandas_edgelist(positive_edges, 'source', 'target')"
   ]
  },
  {
   "cell_type": "code",
   "execution_count": 9,
   "id": "b05af0d1",
   "metadata": {},
   "outputs": [],
   "source": [
    "#compute page rank for all nodes\n",
    "pagerank = nx.pagerank(G, alpha=0.85)\n",
    "#create df with paper_id and pagerank\n",
    "pagerank_df = pd.DataFrame(pagerank.items(), columns=['paper_id', 'pagerank'])\n",
    "\n",
    "positive_edges['source_pagerank'] = positive_edges['source'].map(pagerank_df.set_index('paper_id')['pagerank'])\n",
    "positive_edges['target_pagerank'] = positive_edges['target'].map(pagerank_df.set_index('paper_id')['pagerank'])\n",
    "\n",
    "negative_edges['source_pagerank'] = negative_edges['source'].map(pagerank_df.set_index('paper_id')['pagerank'])\n",
    "negative_edges['target_pagerank'] = negative_edges['target'].map(pagerank_df.set_index('paper_id')['pagerank'])\n",
    "\n",
    "predict_edges['source_pagerank'] = predict_edges['source'].map(pagerank_df.set_index('paper_id')['pagerank'])\n",
    "predict_edges['target_pagerank'] = predict_edges['target'].map(pagerank_df.set_index('paper_id')['pagerank'])\n",
    "\n",
    "positive_edges.to_csv('../../data/training/positive/positive_edges_page_rank.csv')\n",
    "negative_edges.to_csv('../../data/training/negative/negative_edges_page_rank.csv')\n",
    "predict_edges.to_csv('../../data/training/predict/predict_edges_page_rank.csv')"
   ]
  }
 ],
 "metadata": {
  "kernelspec": {
   "display_name": "Python 3",
   "language": "python",
   "name": "python3"
  },
  "language_info": {
   "codemirror_mode": {
    "name": "ipython",
    "version": 3
   },
   "file_extension": ".py",
   "mimetype": "text/x-python",
   "name": "python",
   "nbconvert_exporter": "python",
   "pygments_lexer": "ipython3",
   "version": "3.12.10"
  }
 },
 "nbformat": 4,
 "nbformat_minor": 5
}

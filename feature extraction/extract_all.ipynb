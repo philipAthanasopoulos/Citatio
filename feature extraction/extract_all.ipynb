{
 "cells": [
  {
   "cell_type": "code",
   "execution_count": 1,
   "id": "332ff743",
   "metadata": {},
   "outputs": [
    {
     "name": "stdout",
     "output_type": "stream",
     "text": [
      "Running notebook: c:\\Users\\Dell\\Desktop\\UNI\\NLP\\Citatio\\feature extraction\\predict\\data_to_predict_authors_jaccard.ipynb\n",
      "Running notebook: c:\\Users\\Dell\\Desktop\\UNI\\NLP\\Citatio\\feature extraction\\predict\\data_to_predict_cosine_similarity.ipynb\n",
      "Running notebook: c:\\Users\\Dell\\Desktop\\UNI\\NLP\\Citatio\\feature extraction\\predict\\data_to_predict_dot_product.ipynb\n",
      "Running notebook: c:\\Users\\Dell\\Desktop\\UNI\\NLP\\Citatio\\feature extraction\\predict\\data_to_predict_euclidean_distance.ipynb\n",
      "Running notebook: c:\\Users\\Dell\\Desktop\\UNI\\NLP\\Citatio\\feature extraction\\positive\\positive_data_authors_jaccard.ipynb\n",
      "Running notebook: c:\\Users\\Dell\\Desktop\\UNI\\NLP\\Citatio\\feature extraction\\positive\\positive_data_cosine_similarity.ipynb\n",
      "Running notebook: c:\\Users\\Dell\\Desktop\\UNI\\NLP\\Citatio\\feature extraction\\positive\\positive_data_dot_product.ipynb\n",
      "Running notebook: c:\\Users\\Dell\\Desktop\\UNI\\NLP\\Citatio\\feature extraction\\positive\\positive_data_euclidean_distance.ipynb\n",
      "Running notebook: c:\\Users\\Dell\\Desktop\\UNI\\NLP\\Citatio\\feature extraction\\negative\\negative_data_authors_jaccard.ipynb\n",
      "Running notebook: c:\\Users\\Dell\\Desktop\\UNI\\NLP\\Citatio\\feature extraction\\negative\\negative_data_cosine_similarity.ipynb\n",
      "Running notebook: c:\\Users\\Dell\\Desktop\\UNI\\NLP\\Citatio\\feature extraction\\negative\\negative_data_dot_product.ipynb\n",
      "Running notebook: c:\\Users\\Dell\\Desktop\\UNI\\NLP\\Citatio\\feature extraction\\negative\\negative_edges_euclidean_distance.ipynb\n"
     ]
    }
   ],
   "source": [
    "#run all notebooks in /negative\n",
    "import os\n",
    "import subprocess\n",
    "import sys\n",
    "\n",
    "predict_dir = os.path.join(os.getcwd(), \"predict\")\n",
    "positive_dir = os.path.join(os.getcwd(), \"positive\")\n",
    "negative_dir = os.path.join(os.getcwd(), \"negative\")\n",
    "\n",
    "import concurrent.futures\n",
    "\n",
    "def run_notebooks(directory):\n",
    "\n",
    "    notebooks = [f for f in os.listdir(directory) if f.endswith('.ipynb')]\n",
    "    with concurrent.futures.ThreadPoolExecutor() as executor:\n",
    "        futures = []\n",
    "        for notebook in notebooks:\n",
    "            notebook_path = os.path.join(directory, notebook)\n",
    "            cmd = [\"jupyter\", \"nbconvert\", \"--to\", \"notebook\", \"--execute\", notebook_path, \"--inplace\"]\n",
    "            print(f\"Running notebook: {notebook_path}\")\n",
    "            futures.append(executor.submit(subprocess.run, cmd, check=True))\n",
    "        \n",
    "        for future in concurrent.futures.as_completed(futures):\n",
    "            try:\n",
    "                future.result()\n",
    "            except subprocess.CalledProcessError as e:\n",
    "                print(f\"Error running notebook: {e}\", file=sys.stderr)\n",
    "\n",
    "run_notebooks(predict_dir)\n",
    "run_notebooks(positive_dir)\n",
    "run_notebooks(negative_dir)\n",
    "\n",
    "\n",
    "\n",
    "\n"
   ]
  }
 ],
 "metadata": {
  "kernelspec": {
   "display_name": "Python 3",
   "language": "python",
   "name": "python3"
  },
  "language_info": {
   "codemirror_mode": {
    "name": "ipython",
    "version": 3
   },
   "file_extension": ".py",
   "mimetype": "text/x-python",
   "name": "python",
   "nbconvert_exporter": "python",
   "pygments_lexer": "ipython3",
   "version": "3.12.10"
  }
 },
 "nbformat": 4,
 "nbformat_minor": 5
}
